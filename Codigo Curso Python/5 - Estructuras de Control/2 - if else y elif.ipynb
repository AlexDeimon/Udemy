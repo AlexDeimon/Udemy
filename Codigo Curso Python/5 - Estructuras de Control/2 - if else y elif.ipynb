{
 "cells": [
  {
   "cell_type": "code",
   "execution_count": 1,
   "metadata": {},
   "outputs": [],
   "source": [
    "alvaro = 13"
   ]
  },
  {
   "cell_type": "code",
   "execution_count": 2,
   "metadata": {},
   "outputs": [
    {
     "output_type": "stream",
     "name": "stdout",
     "text": [
      "el resto no es cero\n"
     ]
    }
   ],
   "source": [
    "if alvaro % 2 == 0:\n",
    "    print ('el resto es 0')\n",
    "else:\n",
    "    print('el resto no es cero')"
   ]
  },
  {
   "cell_type": "code",
   "execution_count": 3,
   "metadata": {},
   "outputs": [
    {
     "output_type": "stream",
     "name": "stdout",
     "text": [
      "Esto es algo cuando no da ningun resultado\n"
     ]
    }
   ],
   "source": [
    "frase = \"Alvaro\"\n",
    "if frase == \"Entrar\":\n",
    "    print('Bienvenid@s')\n",
    "elif frase == 'hola':\n",
    "    print('nos estan saludando')\n",
    "else:\n",
    "    print('Esto es algo cuando no da ningun resultado')"
   ]
  },
  {
   "cell_type": "code",
   "execution_count": 4,
   "metadata": {},
   "outputs": [
    {
     "output_type": "stream",
     "name": "stdout",
     "text": [
      "Te falto poco!\n"
     ]
    }
   ],
   "source": [
    "final = float(input('coloca la nota: '))\n",
    "if final >= 9:\n",
    "    print('sos un genio')\n",
    "elif final >= 7:\n",
    "    print('Aprobaste!')\n",
    "elif final == 6:\n",
    "    print('Te falto poco!')\n",
    "elif final <= 5:\n",
    "    print('Tuviste que haber estudiando en el curso de Python de Alvaro!')\n",
    "else:\n",
    "    print('No se donde estudias porque la nota que pusiste no la puedoi evaluar')"
   ]
  },
  {
   "cell_type": "code",
   "execution_count": null,
   "metadata": {},
   "outputs": [],
   "source": []
  },
  {
   "cell_type": "code",
   "execution_count": null,
   "metadata": {},
   "outputs": [],
   "source": []
  }
 ],
 "metadata": {
  "kernelspec": {
   "name": "python386jvsc74a57bd0af1d11f93c94f5a7fb6fb141eaf14f8c836a0e70a8c2eaff020a726e9acd3026",
   "display_name": "Python 3.8.6 64-bit"
  },
  "language_info": {
   "codemirror_mode": {
    "name": "ipython",
    "version": 3
   },
   "file_extension": ".py",
   "mimetype": "text/x-python",
   "name": "python",
   "nbconvert_exporter": "python",
   "pygments_lexer": "ipython3",
   "version": "3.8.6-candidate"
  },
  "metadata": {
   "interpreter": {
    "hash": "af1d11f93c94f5a7fb6fb141eaf14f8c836a0e70a8c2eaff020a726e9acd3026"
   }
  }
 },
 "nbformat": 4,
 "nbformat_minor": 2
}
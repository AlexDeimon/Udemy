{
 "cells": [
  {
   "cell_type": "code",
   "execution_count": 1,
   "metadata": {},
   "outputs": [
    {
     "output_type": "stream",
     "name": "stdout",
     "text": [
      "Imprimo esto porque la evaluacion fue verdadera\n"
     ]
    }
   ],
   "source": [
    "if True:\n",
    "    print('Imprimo esto porque la evaluacion fue verdadera')"
   ]
  },
  {
   "cell_type": "code",
   "execution_count": 3,
   "metadata": {},
   "outputs": [
    {
     "output_type": "stream",
     "name": "stdout",
     "text": [
      "Imprimo esto porque la evaluacion fue verdadera\n"
     ]
    }
   ],
   "source": [
    "if True:\n",
    "    print('Imprimo esto porque la evaluacion fue verdadera')"
   ]
  },
  {
   "cell_type": "code",
   "execution_count": 4,
   "metadata": {},
   "outputs": [],
   "source": [
    "if False:\n",
    "    print('Imprimo esto porque la evaluacion fue verdadera')"
   ]
  },
  {
   "cell_type": "code",
   "execution_count": 5,
   "metadata": {},
   "outputs": [
    {
     "output_type": "stream",
     "name": "stdout",
     "text": [
      "Alvaro Vale 67\nAlvaro Vale 10\n"
     ]
    }
   ],
   "source": [
    "Alvaro = 10\n",
    "if Alvaro == 10:\n",
    "    print('Alvaro Vale 67')\n",
    "if Alvaro == 10:\n",
    "    print('Alvaro Vale 10')"
   ]
  },
  {
   "cell_type": "code",
   "execution_count": 6,
   "metadata": {},
   "outputs": [
    {
     "output_type": "stream",
     "name": "stdout",
     "text": [
      "Alvaro Vale 67\nAlvaro Vale 10\n"
     ]
    }
   ],
   "source": [
    "if Alvaro == 10:\n",
    "    print('Alvaro Vale 67')\n",
    "    if Alvaro == 10:\n",
    "        print('Alvaro Vale 10')"
   ]
  },
  {
   "cell_type": "code",
   "execution_count": 7,
   "metadata": {},
   "outputs": [
    {
     "output_type": "stream",
     "name": "stdout",
     "text": [
      "Alvaro Vale 10\n"
     ]
    }
   ],
   "source": [
    "if Alvaro == 11:\n",
    "    print('Alvaro Vale 67')\n",
    "if Alvaro == 10:\n",
    "    print('Alvaro Vale 10')"
   ]
  },
  {
   "cell_type": "code",
   "execution_count": 8,
   "metadata": {},
   "outputs": [],
   "source": [
    "if Alvaro == 11 and Alvaro == 10:\n",
    "    print ('entro')"
   ]
  },
  {
   "cell_type": "code",
   "execution_count": 9,
   "metadata": {},
   "outputs": [
    {
     "output_type": "stream",
     "name": "stdout",
     "text": [
      "entro\n"
     ]
    }
   ],
   "source": [
    "if Alvaro == 11 or Alvaro == 10:\n",
    "    print ('entro')"
   ]
  },
  {
   "cell_type": "code",
   "execution_count": null,
   "metadata": {},
   "outputs": [],
   "source": []
  }
 ],
 "metadata": {
  "kernelspec": {
   "name": "python386jvsc74a57bd0af1d11f93c94f5a7fb6fb141eaf14f8c836a0e70a8c2eaff020a726e9acd3026",
   "display_name": "Python 3.8.6 64-bit"
  },
  "language_info": {
   "codemirror_mode": {
    "name": "ipython",
    "version": 3
   },
   "file_extension": ".py",
   "mimetype": "text/x-python",
   "name": "python",
   "nbconvert_exporter": "python",
   "pygments_lexer": "ipython3",
   "version": "3.8.6-candidate"
  },
  "metadata": {
   "interpreter": {
    "hash": "af1d11f93c94f5a7fb6fb141eaf14f8c836a0e70a8c2eaff020a726e9acd3026"
   }
  }
 },
 "nbformat": 4,
 "nbformat_minor": 2
}
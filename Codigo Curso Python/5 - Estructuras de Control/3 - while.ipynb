{
 "cells": [
  {
   "cell_type": "code",
   "execution_count": 1,
   "metadata": {},
   "outputs": [
    {
     "output_type": "stream",
     "name": "stdout",
     "text": [
      "Estoy iterando, van =  1\nEstoy iterando, van =  2\nEstoy iterando, van =  3\nEstoy iterando, van =  4\n"
     ]
    }
   ],
   "source": [
    "iteracion = 0\n",
    "while iteracion <= 3:\n",
    "    iteracion += 1\n",
    "    print('Estoy iterando, van = ',iteracion)"
   ]
  },
  {
   "cell_type": "code",
   "execution_count": 2,
   "metadata": {},
   "outputs": [
    {
     "output_type": "stream",
     "name": "stdout",
     "text": [
      "Imprimo esto porque se termino y es el else\n"
     ]
    }
   ],
   "source": [
    "iteracion = 1\n",
    "while iteracion <= 0:\n",
    "    iteracion += 1\n",
    "    print('Estoy iterando, van = ',iteracion)\n",
    "else:\n",
    "    print('Imprimo esto porque se termino y es el else')"
   ]
  },
  {
   "cell_type": "code",
   "execution_count": 3,
   "metadata": {},
   "outputs": [
    {
     "output_type": "stream",
     "name": "stdout",
     "text": [
      "Imprimo esto porque se termino y es el else\n"
     ]
    }
   ],
   "source": [
    "iteracion = 1\n",
    "while iteracion <= 0:\n",
    "    iteracion += 1\n",
    "    print('Estoy iterando, van = ',iteracion)\n",
    "    break\n",
    "else:\n",
    "    print('Imprimo esto porque se termino y es el else')"
   ]
  },
  {
   "cell_type": "code",
   "execution_count": 4,
   "metadata": {},
   "outputs": [
    {
     "output_type": "stream",
     "name": "stdout",
     "text": [
      "Estoy iterando, van =  4\nImprimo esto porque se termino y es el else\n"
     ]
    }
   ],
   "source": [
    "iteracion = 0\n",
    "while iteracion <= 10:\n",
    "    iteracion += 1\n",
    "    if (iteracion == 4):\n",
    "        print('Estoy iterando, van = ',iteracion)\n",
    "        \n",
    "else:\n",
    "    print('Imprimo esto porque se termino y es el else')"
   ]
  },
  {
   "cell_type": "code",
   "execution_count": null,
   "metadata": {},
   "outputs": [],
   "source": []
  }
 ],
 "metadata": {
  "kernelspec": {
   "name": "python386jvsc74a57bd0af1d11f93c94f5a7fb6fb141eaf14f8c836a0e70a8c2eaff020a726e9acd3026",
   "display_name": "Python 3.8.6 64-bit"
  },
  "language_info": {
   "codemirror_mode": {
    "name": "ipython",
    "version": 3
   },
   "file_extension": ".py",
   "mimetype": "text/x-python",
   "name": "python",
   "nbconvert_exporter": "python",
   "pygments_lexer": "ipython3",
   "version": "3.8.6-candidate"
  },
  "metadata": {
   "interpreter": {
    "hash": "af1d11f93c94f5a7fb6fb141eaf14f8c836a0e70a8c2eaff020a726e9acd3026"
   }
  }
 },
 "nbformat": 4,
 "nbformat_minor": 2
}
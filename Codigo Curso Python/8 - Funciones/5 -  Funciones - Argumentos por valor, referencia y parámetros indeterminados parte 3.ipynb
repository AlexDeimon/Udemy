{
 "cells": [
  {
   "cell_type": "code",
   "execution_count": 1,
   "metadata": {},
   "outputs": [],
   "source": [
    "def argu(*tu): #el * indica que no se sabe el numero de argumento\n",
    "    for tus in tu:\n",
    "        print(tus)"
   ]
  },
  {
   "cell_type": "code",
   "execution_count": 9,
   "metadata": {},
   "outputs": [
    {
     "output_type": "stream",
     "name": "stdout",
     "text": [
      "alvaro\nchirou\nestudiantes\n10\n[1, 2, 3]\n"
     ]
    }
   ],
   "source": [
    "argu('alvaro','chirou','estudiantes', 10,[1,2,3])"
   ]
  },
  {
   "cell_type": "code",
   "execution_count": 11,
   "metadata": {},
   "outputs": [],
   "source": [
    "def nombre_diccionario(*tu,**lo): #los ** indica lo mismo q un * pero para diccionarios\n",
    "    b = 0\n",
    "    for tus in tu:\n",
    "        b+=tus\n",
    "    print(b)\n",
    "    for x in lo:\n",
    "        print(x, \" \",lo[x])"
   ]
  },
  {
   "cell_type": "code",
   "execution_count": 13,
   "metadata": {},
   "outputs": [
    {
     "output_type": "stream",
     "name": "stdout",
     "text": [
      "10\nalvaro   Chirou\nEstudiantes   Genios\ncalificaciones   [7, 8, 9]\n"
     ]
    }
   ],
   "source": [
    "nombre_diccionario(1,2,3,4,alvaro='Chirou',Estudiantes='Genios',calificaciones=[7,8,9])"
   ]
  },
  {
   "cell_type": "code",
   "execution_count": null,
   "metadata": {},
   "outputs": [],
   "source": []
  }
 ],
 "metadata": {
  "kernelspec": {
   "name": "python386jvsc74a57bd0af1d11f93c94f5a7fb6fb141eaf14f8c836a0e70a8c2eaff020a726e9acd3026",
   "display_name": "Python 3.8.6rc1 64-bit"
  },
  "language_info": {
   "codemirror_mode": {
    "name": "ipython",
    "version": 3
   },
   "file_extension": ".py",
   "mimetype": "text/x-python",
   "name": "python",
   "nbconvert_exporter": "python",
   "pygments_lexer": "ipython3",
   "version": "3.8.6"
  },
  "metadata": {
   "interpreter": {
    "hash": "af1d11f93c94f5a7fb6fb141eaf14f8c836a0e70a8c2eaff020a726e9acd3026"
   }
  }
 },
 "nbformat": 4,
 "nbformat_minor": 2
}
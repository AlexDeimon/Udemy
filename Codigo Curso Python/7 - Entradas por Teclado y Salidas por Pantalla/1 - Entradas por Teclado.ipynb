{
 "cells": [
  {
   "cell_type": "code",
   "execution_count": 1,
   "metadata": {},
   "outputs": [],
   "source": [
    "ingreso = input(\"Ingresa tu clase: \")"
   ]
  },
  {
   "cell_type": "code",
   "execution_count": 2,
   "metadata": {},
   "outputs": [
    {
     "output_type": "execute_result",
     "data": {
      "text/plain": [
       "'hola'"
      ]
     },
     "metadata": {},
     "execution_count": 2
    }
   ],
   "source": [
    "ingreso"
   ]
  },
  {
   "cell_type": "code",
   "execution_count": 3,
   "metadata": {},
   "outputs": [],
   "source": [
    "listas = []"
   ]
  },
  {
   "cell_type": "code",
   "execution_count": 4,
   "metadata": {},
   "outputs": [
    {
     "output_type": "stream",
     "name": "stdout",
     "text": [
      "Ingresa ya mismo 5 numeros\n"
     ]
    }
   ],
   "source": [
    "print(\"Ingresa ya mismo 5 numeros\")\n",
    "for i in range(5):\n",
    "    listas.append(input(\"Ingresa un numero: \"))"
   ]
  },
  {
   "cell_type": "code",
   "execution_count": 5,
   "metadata": {},
   "outputs": [
    {
     "output_type": "execute_result",
     "data": {
      "text/plain": [
       "['2', '3', '8', '2', '3']"
      ]
     },
     "metadata": {},
     "execution_count": 5
    }
   ],
   "source": [
    "listas"
   ]
  },
  {
   "cell_type": "code",
   "execution_count": null,
   "metadata": {},
   "outputs": [],
   "source": []
  }
 ],
 "metadata": {
  "kernelspec": {
   "name": "python386jvsc74a57bd0af1d11f93c94f5a7fb6fb141eaf14f8c836a0e70a8c2eaff020a726e9acd3026",
   "display_name": "Python 3.8.6rc1 64-bit"
  },
  "language_info": {
   "codemirror_mode": {
    "name": "ipython",
    "version": 3
   },
   "file_extension": ".py",
   "mimetype": "text/x-python",
   "name": "python",
   "nbconvert_exporter": "python",
   "pygments_lexer": "ipython3",
   "version": "3.8.6"
  },
  "metadata": {
   "interpreter": {
    "hash": "af1d11f93c94f5a7fb6fb141eaf14f8c836a0e70a8c2eaff020a726e9acd3026"
   }
  }
 },
 "nbformat": 4,
 "nbformat_minor": 2
}
{
 "cells": [
  {
   "cell_type": "code",
   "execution_count": 1,
   "metadata": {},
   "outputs": [
    {
     "output_type": "stream",
     "name": "stdout",
     "text": [
      "De esta manera \nnos ahorramos a nun\npero no a \tuna que es para la tabulacio\n"
     ]
    }
   ],
   "source": [
    "print(\"\"\"De esta manera \n",
    "nos ahorramos a nun\n",
    "pero no a \\tuna que es para la tabulacio\"\"\") #nun =/n"
   ]
  },
  {
   "cell_type": "code",
   "execution_count": 2,
   "metadata": {},
   "outputs": [],
   "source": [
    "variable = \"Teoria sobre este tema donde salto de linea es con \\nson dos lineas\""
   ]
  },
  {
   "cell_type": "code",
   "execution_count": 3,
   "metadata": {},
   "outputs": [
    {
     "output_type": "execute_result",
     "data": {
      "text/plain": [
       "'Teoria sobre este tema donde salto de linea es con \\nson dos lineas'"
      ]
     },
     "metadata": {},
     "execution_count": 3
    }
   ],
   "source": [
    "variable"
   ]
  },
  {
   "cell_type": "code",
   "execution_count": 4,
   "metadata": {},
   "outputs": [
    {
     "output_type": "stream",
     "name": "stdout",
     "text": [
      "Teoria sobre este tema donde salto de linea es con \nson dos lineas\n"
     ]
    }
   ],
   "source": [
    "print(variable)"
   ]
  },
  {
   "cell_type": "code",
   "execution_count": 5,
   "metadata": {},
   "outputs": [
    {
     "output_type": "execute_result",
     "data": {
      "text/plain": [
       "'Teoria sobre este tema donde salto de linea es con \\nson dos lineasTeoria sobre este tema donde salto de linea es con \\nson dos lineas'"
      ]
     },
     "metadata": {},
     "execution_count": 5
    }
   ],
   "source": [
    "variable + variable"
   ]
  },
  {
   "cell_type": "code",
   "execution_count": 6,
   "metadata": {},
   "outputs": [
    {
     "output_type": "execute_result",
     "data": {
      "text/plain": [
       "'Teoria sobre este tema donde salto de linea es con \\nson dos lineas'"
      ]
     },
     "metadata": {},
     "execution_count": 6
    }
   ],
   "source": [
    "variable"
   ]
  },
  {
   "cell_type": "code",
   "execution_count": 7,
   "metadata": {},
   "outputs": [
    {
     "output_type": "stream",
     "name": "stdout",
     "text": [
      "Teoria sobre este tema donde salto de linea es con \nson dos lineasTeoria sobre este tema donde salto de linea es con \nson dos lineas\n"
     ]
    }
   ],
   "source": [
    "print(variable + variable)"
   ]
  },
  {
   "cell_type": "code",
   "execution_count": 8,
   "metadata": {},
   "outputs": [],
   "source": [
    "primero = \"primer parte\"\n",
    "segundo = \" segunda parte\""
   ]
  },
  {
   "cell_type": "code",
   "execution_count": 9,
   "metadata": {},
   "outputs": [
    {
     "output_type": "stream",
     "name": "stdout",
     "text": [
      "fusion de primer parte segunda parte\n"
     ]
    }
   ],
   "source": [
    "print(\"fusion de \" + primero + segundo)"
   ]
  },
  {
   "cell_type": "code",
   "execution_count": null,
   "metadata": {},
   "outputs": [],
   "source": []
  }
 ],
 "metadata": {
  "kernelspec": {
   "name": "python386jvsc74a57bd0af1d11f93c94f5a7fb6fb141eaf14f8c836a0e70a8c2eaff020a726e9acd3026",
   "display_name": "Python 3.8.6 64-bit"
  },
  "language_info": {
   "codemirror_mode": {
    "name": "ipython",
    "version": 3
   },
   "file_extension": ".py",
   "mimetype": "text/x-python",
   "name": "python",
   "nbconvert_exporter": "python",
   "pygments_lexer": "ipython3",
   "version": "3.8.6-candidate"
  },
  "metadata": {
   "interpreter": {
    "hash": "af1d11f93c94f5a7fb6fb141eaf14f8c836a0e70a8c2eaff020a726e9acd3026"
   }
  }
 },
 "nbformat": 4,
 "nbformat_minor": 2
}